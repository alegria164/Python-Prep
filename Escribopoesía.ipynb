{
  "nbformat": 4,
  "nbformat_minor": 0,
  "metadata": {
    "colab": {
      "provenance": [],
      "toc_visible": true,
      "authorship_tag": "ABX9TyOYt2wq//kwBi3+AmYZwmQT",
      "include_colab_link": true
    },
    "kernelspec": {
      "name": "python3",
      "display_name": "Python 3"
    },
    "language_info": {
      "name": "python"
    }
  },
  "cells": [
    {
      "cell_type": "markdown",
      "metadata": {
        "id": "view-in-github",
        "colab_type": "text"
      },
      "source": [
        "<a href=\"https://colab.research.google.com/github/alegria164/Python-Prep/blob/main/Escribopoes%C3%ADa.ipynb\" target=\"_parent\"><img src=\"https://colab.research.google.com/assets/colab-badge.svg\" alt=\"Open In Colab\"/></a>"
      ]
    },
    {
      "cell_type": "markdown",
      "source": [
        "\n",
        "\n",
        "1.  ** Todo lo que sé de tuplas**\n",
        "\n",
        "\n",
        "\n",
        "Las tuplas son una secuencia de valores muy similares a una lista. La diferencia está en que no se pueden modificar una vez creadas, es decir que son inmutables.\n",
        "\n",
        "Sintácticamente son una lista de valores separados por comas, encerrados entre paréntesis, así las identificamos rápidamente en el código.\n",
        "\n"
      ],
      "metadata": {
        "id": "70j-2i7Lf8h9"
      }
    },
    {
      "cell_type": "code",
      "source": [
        "\n",
        "a=4,16, 20, 22\n",
        "type(a)\n",
        "\n",
        "#El método tuple() funciona de manera similar, pero crea una nueva tupla en lugar de una lista.\n",
        "tuple(range (1,17))\n",
        "\n",
        "#Empaquetar tuplas\n"
      ],
      "metadata": {
        "colab": {
          "base_uri": "https://localhost:8080/"
        },
        "id": "47LFbcMngEPv",
        "outputId": "bc7ec0ea-6d24-4c1b-de7f-868116a28fb0"
      },
      "execution_count": 49,
      "outputs": [
        {
          "output_type": "execute_result",
          "data": {
            "text/plain": [
              "(1, 2, 3, 4, 5, 6, 7, 8, 9, 10, 11, 12, 13, 14, 15, 16)"
            ]
          },
          "metadata": {},
          "execution_count": 49
        }
      ]
    },
    {
      "cell_type": "markdown",
      "source": [
        "2. Todo lo que sé de diccionarios\n",
        "\n",
        "Son una estructura de datos muy útil en Python que permiten almacenar información en forma de clave-valor.\n",
        "\n",
        "En un diccionario, los índices pueden ser de casi cualquier tipo. Podemos imaginar que un diccionario es una asociación entre un conjunto de índices, que ahora le vamos a llamar claves y un conjunto de valores.\n",
        "Cada clave apunta a un valor"
      ],
      "metadata": {
        "id": "OTdUkt-pg3xY"
      }
    },
    {
      "cell_type": "code",
      "source": [
        "intento= {\"Prácticas_corrupción\": [\"Nepotismo\", \"Malversación de fondos\", \"Clientelismo\"],\n",
        "          \"Delitos_corrupción\": [\"Peculado\", \"Colusión\"]}\n",
        "print(intento)"
      ],
      "metadata": {
        "colab": {
          "base_uri": "https://localhost:8080/"
        },
        "id": "ELigxzPhj_fT",
        "outputId": "c3f65012-a4c7-4c45-bd92-ceee754f284a"
      },
      "execution_count": 53,
      "outputs": [
        {
          "output_type": "stream",
          "name": "stdout",
          "text": [
            "{'Prácticas_corrupción': ['Nepotismo', 'Malversación de fondos', 'Clientelismo'], 'Delitos_corrupción': ['Peculado', 'Colusión']}\n"
          ]
        }
      ]
    },
    {
      "cell_type": "markdown",
      "source": [
        "NumPy\n",
        "Arrays"
      ],
      "metadata": {
        "id": "XKPBFB2rpErb"
      }
    },
    {
      "cell_type": "code",
      "source": [
        "import numpy as np\n",
        "cumple= np.array([[4,16], [18, 7], [20, 7], [22, 5]])\n",
        "\n",
        "#La primera fila\n",
        "cumple[0]\n",
        "#Nos da el segundo y tercer elemento de la primera fila.\n",
        "cumple[0][1:4]\n",
        "# podemos acceder a elementos de notificación de 'coma', es decir, damos la coordinación del elemento que queremos.\n",
        "cumple[3,1]\n",
        "# toda la primera fila\n",
        "cumple[0,:]\n",
        "#asignar de esta manera\n",
        "cumple[0][:]=4\n",
        "cumple\n",
        "#Aritmética\n",
        "cumplea= np.array([4,16,91])\n",
        "cumplea*2\n",
        "cumplea+1\n",
        "cumplek=np.array([20,7,87])\n",
        "cumplea/cumplek\n"
      ],
      "metadata": {
        "colab": {
          "base_uri": "https://localhost:8080/"
        },
        "id": "H6RpbHA8pQXe",
        "outputId": "4b1bc70a-597e-4910-fbca-a331c987ea89"
      },
      "execution_count": 79,
      "outputs": [
        {
          "output_type": "execute_result",
          "data": {
            "text/plain": [
              "array([0.2       , 2.28571429, 1.04597701])"
            ]
          },
          "metadata": {},
          "execution_count": 79
        }
      ]
    }
  ]
}