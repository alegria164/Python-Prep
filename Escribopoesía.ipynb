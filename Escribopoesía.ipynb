{
  "nbformat": 4,
  "nbformat_minor": 0,
  "metadata": {
    "colab": {
      "provenance": [],
      "toc_visible": true,
      "authorship_tag": "ABX9TyM2bGRGzNQcgIqA3H8RDljh",
      "include_colab_link": true
    },
    "kernelspec": {
      "name": "python3",
      "display_name": "Python 3"
    },
    "language_info": {
      "name": "python"
    }
  },
  "cells": [
    {
      "cell_type": "markdown",
      "metadata": {
        "id": "view-in-github",
        "colab_type": "text"
      },
      "source": [
        "<a href=\"https://colab.research.google.com/github/alegria164/Python-Prep/blob/main/Escribopoes%C3%ADa.ipynb\" target=\"_parent\"><img src=\"https://colab.research.google.com/assets/colab-badge.svg\" alt=\"Open In Colab\"/></a>"
      ]
    },
    {
      "cell_type": "markdown",
      "source": [
        "\n",
        "\n",
        "1.   Todo lo que sé de tuplas\n",
        "\n",
        "\n"
      ],
      "metadata": {
        "id": "70j-2i7Lf8h9"
      }
    },
    {
      "cell_type": "code",
      "source": [],
      "metadata": {
        "id": "47LFbcMngEPv"
      },
      "execution_count": null,
      "outputs": []
    }
  ]
}